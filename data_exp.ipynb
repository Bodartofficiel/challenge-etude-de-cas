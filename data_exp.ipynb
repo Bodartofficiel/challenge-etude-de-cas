{
 "cells": [
  {
   "cell_type": "markdown",
   "metadata": {},
   "source": [
    "## Organiser les classes d'image en folder"
   ]
  },
  {
   "cell_type": "code",
   "execution_count": 3,
   "metadata": {},
   "outputs": [
    {
     "name": "stdout",
     "output_type": "stream",
     "text": [
      "Image non trouvée pour l'article : CD040112A0030000\n",
      "Organisation terminée !\n"
     ]
    }
   ],
   "source": [
    "import os\n",
    "import shutil\n",
    "import pandas as pd\n",
    "\n",
    "# Chemins des fichiers et dossiers\n",
    "csv_path = './data/product_list.csv'  # Remplace par le chemin de ton CSV\n",
    "images_folder = './data/DAM'  # Dossier contenant les images\n",
    "output_folder = './data/articles'  # Dossier de sortie\n",
    "\n",
    "# Charger le CSV\n",
    "data = pd.read_csv(csv_path)\n",
    "\n",
    "# Parcourir chaque ligne du CSV\n",
    "for _, row in data.iterrows():\n",
    "    article = row['MMC']  # Nom de l'article\n",
    "    classe = row['Product_BusinessUnitDesc']  # Classe correspondante\n",
    "    \n",
    "    # Créer le dossier pour la classe s'il n'existe pas\n",
    "    classe_folder = os.path.join(output_folder, str(classe))\n",
    "    os.makedirs(classe_folder, exist_ok=True)\n",
    "    \n",
    "    # Trouver l'image correspondant à l'article\n",
    "    image_name = f\"{article}.jpeg\"  # Remplace '.jpg' par l'extension appropriée si besoin\n",
    "    image_path = os.path.join(images_folder, image_name)\n",
    "    \n",
    "    # Vérifier si l'image existe\n",
    "    if os.path.exists(image_path):\n",
    "        # Copier l'image dans le dossier de la classe\n",
    "        shutil.copy(image_path, classe_folder)\n",
    "    else:\n",
    "        print(f\"Image non trouvée pour l'article : {article}\")\n",
    "\n",
    "print(\"Organisation terminée !\")\n"
   ]
  }
 ],
 "metadata": {
  "kernelspec": {
   "display_name": "pytorch-mps",
   "language": "python",
   "name": "python3"
  },
  "language_info": {
   "codemirror_mode": {
    "name": "ipython",
    "version": 3
   },
   "file_extension": ".py",
   "mimetype": "text/x-python",
   "name": "python",
   "nbconvert_exporter": "python",
   "pygments_lexer": "ipython3",
   "version": "3.12.8"
  }
 },
 "nbformat": 4,
 "nbformat_minor": 2
}
