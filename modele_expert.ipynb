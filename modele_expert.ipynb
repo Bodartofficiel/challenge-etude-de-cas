{
 "cells": [
  {
   "cell_type": "code",
   "execution_count": 1,
   "metadata": {},
   "outputs": [],
   "source": [
    "#import modules and datasets\n",
    "import pandas as pd\n",
    "import os\n",
    "from PIL import Image\n",
    "from torchvision import datasets, transforms\n",
    "from torch.utils.data import Dataset, DataLoader\n",
    "from datasets import load_dataset\n",
    "from pathlib import Path\n",
    "\n",
    "\n"
   ]
  },
  {
   "cell_type": "code",
   "execution_count": null,
   "metadata": {},
   "outputs": [
    {
     "name": "stdout",
     "output_type": "stream",
     "text": [
      "[85, 68, 95, 184, 148, 163, 333, 315, 206, 283, 113, 253, 125, 124, 5, 106, 254, 71, 72, 194, 132, 266, 22, 273, 180, 168, 41, 192, 335, 46, 77, 209, 40, 331, 74, 200, 56, 144, 189, 10, 2, 161, 312, 8, 17, 242, 48, 15, 133, 252, 213, 233, 224, 289, 18, 212, 322, 104, 62, 328, 300, 201, 311, 47, 174, 308, 59, 214, 301, 67, 195, 105, 126, 294, 140, 190, 165, 320, 269, 11, 296, 234, 256, 309, 258, 268, 97, 229, 171, 138, 241, 220, 4, 24, 228, 172, 64, 265, 304, 219, 63, 75, 108, 52, 297, 313, 264, 245, 33, 50, 66, 262, 270, 158, 261, 32, 82, 44, 14, 230, 31, 202, 149, 282, 177, 156, 272, 169, 303, 330, 178, 135, 227, 216, 6, 211, 299, 112, 235, 38, 166, 240, 139, 151, 155, 302, 21, 84, 142, 103, 259, 298, 39, 19, 316, 208, 30, 123, 43, 284, 196, 260, 306, 295, 243, 60, 134, 197, 286, 280, 61, 130, 210, 327, 58, 128, 318, 120, 247, 207, 65, 246, 278, 116, 281, 305, 86, 145, 181, 321, 111, 122, 0, 45, 310, 25, 1, 87, 160, 16]\n",
      "['KCK228RPMS12U', 'KCI885VSOS900', 'KCK278CRRS900', 'KCQ244BXES34R', 'KCP761GRBS15X', 'KCP928SRYS34R', 'KDV031SGRS900', 'KDP890RCES50P', 'KCQ420ERCS13T', 'KDI794TFCS900', 'KCK331CQCS03W', 'KDB720ACAS33R', 'KCP233LAMS46K', 'KCM195JACS11X', 'KCB444VNIS23R', 'KCK311VEAS10W', 'KDB720ACAS900', 'KCK179CVAS06W', 'KCK196CYES21X', 'KCQ266VEAS900', 'KCP347LABS03W', 'KDI492SURS11H', 'KCB777PGOS900', 'KDI607VSOS900', 'KCQ209TJES34G', 'KCQ122LAMS54K', 'KCI536WLAS35X', 'KCQ266VEAS03W', 'KDV042VNIS900', 'KCI601CFMS16T', 'KCK211RMES89Z', 'KCQ510CFMS16T', 'KCI536WLAS11X', 'KDQ788SQPS900', 'KCK211DAMS17X', 'KCQ351CTDS21H', 'KCI685SNYS42W', 'KCP549ECFS21U', 'KCQ244RMES89Z', 'KCB608RMES89Z', 'KCB384VNRS03W', 'KCP883EMRS42P', 'KDP867LCSS49K', 'KCB535PCOS17X', 'KCB698ACAS900', 'KDB164SCAS900', 'KCI661RCAS10W', 'KCB668DGES10W', 'KCP378BPES89Z', 'KDB717ACAS44W', 'KCQ539LCVS59K', 'KCQ775LABS03W', 'KCQ707LCSS62K', 'KDP345VEVS14V', 'KCB704MNYS92Z', 'KCQ538VEAS900', 'KDP967PPWS17X', 'KCK307DMNS03W', 'KCI770VSOS03W', 'KDQ713VEAS18Y', 'KDP761BXES34R', 'KCQ351LNYS29X', 'KDP867EFRS34R', 'KCI612VSOS900', 'KCQ209DLPS27G', 'KDP866EFRS11H', 'KCI743VVVS900', 'KCQ547LABS09N', 'KDP761GRBS15X', 'KCI882RUBS12U', 'KCQ275VEAS03W', 'KCK309DTNS52P', 'KCP233VVVS12U', 'KDP546LABS900', 'KCP479LABS08U', 'KCQ244TIES74B', 'KCP945MCMS03W', 'KDP930RCES900', 'KDI521MRLS900', 'KCB608TJES34G', 'KDP598TNRS36X', 'KCQ789SQRS71K', 'KDB756PGPS900', 'KDP867CHSS900', 'KDB778PGPS900', 'KDI500MRLS31X', 'KCK299CNFS10W', 'KCQ718LABS71B', 'KCQ200NGGS900', 'KCP462PTRS900', 'KCQ858SBXS89K', 'KCQ551ESKS23R', 'KCB427SEHS90Z', 'KCC200TFLS33R', 'KCQ718LABS38M', 'KCQ209BXES34R', 'KCI802CQCS900', 'KDC201VNRS33R', 'KDP761TJUS76W', 'KCQ551ESKS20T', 'KCI781VEAS17X', 'KCK211DLPS26U', 'KCK315NYFS900', 'KCI675SCRS46X', 'KDP613WLAS11X', 'KDP867MPPS19W', 'KDC201VNRS03W', 'KDB585DLPS26U', 'KCC207KGRS05W', 'KCI668VEAS03W', 'KCI853CYCS20X', 'KDC200TFLS43P', 'KDI531SHCS31X', 'KCP867MLUS72K', 'KDC200TFLS33G', 'KCC204VMOS57K', 'KCK222NGGS49P', 'KCI589VEAS900', 'KCB651ACAS900', 'KCQ730CQCS900', 'KCC201VNRS900', 'KCQ358ERCS56B', 'KCP761ONYS17X', 'KDI781VEAS17X', 'KCQ209IKES92B', 'KCP845ACAS900', 'KDI594LABS33R', 'KCQ166ERCS11X', 'KDP761TJES46P', 'KDQ754PGPS900', 'KCQ209LPES46H', 'KCP406VVVS12U', 'KCQ717VEAS42W', 'KCQ549FWLS900', 'KCB460GGNS900', 'KCQ536CSTS04X', 'KDP673PCOS17X', 'KCK327NYVS09W', 'KCQ789SQRS75K', 'KCI491CFMS900', 'KCP953DUFS900', 'KCQ858SBXS70K', 'KCP463VVVS900', 'KCP762GRYS26X', 'KCP820ACAS900', 'KDP761TJES34G', 'KCB756PGPS900', 'KCK224KPES70B', 'KCP520PESS44P', 'KCK306PUVS09W', 'KDB805VNIS03W', 'KDP618ACAS36X', 'KCI521MRLS900', 'KCB710CCUS24R', 'KDP909CCFS900', 'KCQ439VEAS900', 'KCC201VNRS28R', 'KCL024CFMS900', 'KCI544TWWS11X', 'KDI851ROYS900', 'KCQ278WLBS900', 'KDB805VNIS900', 'KDP841VNIS19O', 'KDP556PLRS17X', 'KDB501GLRS900', 'KCI762NSRS03W', 'KCP394SCAS900', 'KCQ304CRCS19O', 'KDI884VSOS900', 'KDI774VEAS900', 'KCI762NSRS900', 'KCP306TFLS20X', 'KCQ535NGGS12U', 'KDQ708ESKS62H', 'KCI736CQCS900', 'KCP261SSIS900', 'KDP924VEAS03W', 'KCK365OBUS29W', 'KDB585IKES34U', 'KCQ431OBYS33G', 'KCI813PLFS71K', 'KDB585EETS89Z', 'KDI701CFRS11X', 'KCK351POBS56B', 'KDI780VEAS03W', 'KDP839LMSS71K', 'KCK231TLCS33R', 'KCP674TFPS36X', 'KCQ209ZPES24Y', 'KDP931VSOS900', 'KCK327NVCS92Z', 'KCK382POBS56B', 'KCB052VNIS19O', 'KCI592VSOS900', 'KDP867EFRS10W', 'KCC200VNRS08U', 'KCB384TFLS33G', 'KCK231TLCS900', 'KCP882EMRS42P', 'KCB692LBOS33M']\n",
      "[275, 194, 31, 108, 70, 162, 109, 101, 110, 101, 279, 252, 53, 273, 74, 317, 106, 204, 251, 244, 92, 276, 276, 99, 88, 91, 75]\n",
      "['KDI611SCNS52X', 'KCQ266VEAS900', 'KCC201VNRS900', 'KCK315NYFS900', 'KCK177CVAS12X', 'KCP902EMRS900', 'KCK318CMPS10W', 'KCK304CVES03W', 'KCK325VEAS19O', 'KCK304CVES03W', 'KDI717VEAS900', 'KDB717ACAS44W', 'KCI675SCRS52X', 'KDI607VSOS900', 'KCK211DAMS17X', 'KDP916LNYS27G', 'KCK311VEAS10W', 'KCQ390VEAS54H', 'KDB704LNYS26U', 'KDB578TJES36W', 'KCK278BCRS29W', 'KDI613VEAS900', 'KDI613VEAS900', 'KCK299CNFS900', 'KCK233TOKS56B', 'KCK276NKRS900', 'KCK211DLPS26U']\n"
     ]
    }
   ],
   "source": [
    "\n",
    "\n",
    "# Charge le dataset\n",
    "dataset_path = \"augmented_dataset_expert\"\n",
    "\n",
    "dataset = load_dataset(str(dataset_path), trust_remote_code=True, num_augments = 0, class_name = \"W Shoes\" )\n",
    "\n",
    "from sklearn.preprocessing import LabelEncoder\n",
    "\n",
    "# Créer un encodeur\n",
    "label_encoder = LabelEncoder()\n",
    "\n",
    "# Encoder les labels de l'ensemble de données \"train\"\n",
    "train_labels = dataset['train']['label']  # Assurez-vous que les labels sont sous forme de liste ou tableau\n",
    "encoded_train_labels = label_encoder.fit_transform(train_labels)\n",
    "\n",
    "dataset['train'] = dataset['train'].add_column('encoded_label', encoded_train_labels)\n",
    "\n",
    "test_labels = dataset['test']['label']\n",
    "encoded_test_labels = label_encoder.transform(test_labels)\n",
    "dataset['test'] = dataset['test'].add_column('encoded_label', encoded_test_labels)\n"
   ]
  },
  {
   "cell_type": "code",
   "execution_count": 46,
   "metadata": {},
   "outputs": [
    {
     "ename": "ValueError",
     "evalue": "The table can't have duplicated columns but columns ['encoded_label'] are duplicated.",
     "output_type": "error",
     "traceback": [
      "\u001b[0;31m---------------------------------------------------------------------------\u001b[0m",
      "\u001b[0;31mValueError\u001b[0m                                Traceback (most recent call last)",
      "Cell \u001b[0;32mIn[46], line 10\u001b[0m\n\u001b[1;32m      7\u001b[0m train_labels \u001b[38;5;241m=\u001b[39m dataset[\u001b[38;5;124m'\u001b[39m\u001b[38;5;124mtrain\u001b[39m\u001b[38;5;124m'\u001b[39m][\u001b[38;5;124m'\u001b[39m\u001b[38;5;124mlabel\u001b[39m\u001b[38;5;124m'\u001b[39m]  \u001b[38;5;66;03m# Assurez-vous que les labels sont sous forme de liste ou tableau\u001b[39;00m\n\u001b[1;32m      8\u001b[0m encoded_train_labels \u001b[38;5;241m=\u001b[39m label_encoder\u001b[38;5;241m.\u001b[39mfit_transform(train_labels)\n\u001b[0;32m---> 10\u001b[0m dataset[\u001b[38;5;124m'\u001b[39m\u001b[38;5;124mtrain\u001b[39m\u001b[38;5;124m'\u001b[39m] \u001b[38;5;241m=\u001b[39m \u001b[43mdataset\u001b[49m\u001b[43m[\u001b[49m\u001b[38;5;124;43m'\u001b[39;49m\u001b[38;5;124;43mtrain\u001b[39;49m\u001b[38;5;124;43m'\u001b[39;49m\u001b[43m]\u001b[49m\u001b[38;5;241;43m.\u001b[39;49m\u001b[43madd_column\u001b[49m\u001b[43m(\u001b[49m\u001b[38;5;124;43m'\u001b[39;49m\u001b[38;5;124;43mencoded_label\u001b[39;49m\u001b[38;5;124;43m'\u001b[39;49m\u001b[43m,\u001b[49m\u001b[43m \u001b[49m\u001b[43mencoded_train_labels\u001b[49m\u001b[43m)\u001b[49m\n\u001b[1;32m     12\u001b[0m test_labels \u001b[38;5;241m=\u001b[39m dataset[\u001b[38;5;124m'\u001b[39m\u001b[38;5;124mtest\u001b[39m\u001b[38;5;124m'\u001b[39m][\u001b[38;5;124m'\u001b[39m\u001b[38;5;124mlabel\u001b[39m\u001b[38;5;124m'\u001b[39m]\n\u001b[1;32m     13\u001b[0m encoded_test_labels \u001b[38;5;241m=\u001b[39m label_encoder\u001b[38;5;241m.\u001b[39mtransform(test_labels)\n",
      "File \u001b[0;32m/Library/Frameworks/Python.framework/Versions/3.12/lib/python3.12/site-packages/datasets/arrow_dataset.py:560\u001b[0m, in \u001b[0;36mtransmit_format.<locals>.wrapper\u001b[0;34m(*args, **kwargs)\u001b[0m\n\u001b[1;32m    553\u001b[0m self_format \u001b[38;5;241m=\u001b[39m {\n\u001b[1;32m    554\u001b[0m     \u001b[38;5;124m\"\u001b[39m\u001b[38;5;124mtype\u001b[39m\u001b[38;5;124m\"\u001b[39m: \u001b[38;5;28mself\u001b[39m\u001b[38;5;241m.\u001b[39m_format_type,\n\u001b[1;32m    555\u001b[0m     \u001b[38;5;124m\"\u001b[39m\u001b[38;5;124mformat_kwargs\u001b[39m\u001b[38;5;124m\"\u001b[39m: \u001b[38;5;28mself\u001b[39m\u001b[38;5;241m.\u001b[39m_format_kwargs,\n\u001b[1;32m    556\u001b[0m     \u001b[38;5;124m\"\u001b[39m\u001b[38;5;124mcolumns\u001b[39m\u001b[38;5;124m\"\u001b[39m: \u001b[38;5;28mself\u001b[39m\u001b[38;5;241m.\u001b[39m_format_columns,\n\u001b[1;32m    557\u001b[0m     \u001b[38;5;124m\"\u001b[39m\u001b[38;5;124moutput_all_columns\u001b[39m\u001b[38;5;124m\"\u001b[39m: \u001b[38;5;28mself\u001b[39m\u001b[38;5;241m.\u001b[39m_output_all_columns,\n\u001b[1;32m    558\u001b[0m }\n\u001b[1;32m    559\u001b[0m \u001b[38;5;66;03m# apply actual function\u001b[39;00m\n\u001b[0;32m--> 560\u001b[0m out: Union[\u001b[38;5;124m\"\u001b[39m\u001b[38;5;124mDataset\u001b[39m\u001b[38;5;124m\"\u001b[39m, \u001b[38;5;124m\"\u001b[39m\u001b[38;5;124mDatasetDict\u001b[39m\u001b[38;5;124m\"\u001b[39m] \u001b[38;5;241m=\u001b[39m \u001b[43mfunc\u001b[49m\u001b[43m(\u001b[49m\u001b[38;5;28;43mself\u001b[39;49m\u001b[43m,\u001b[49m\u001b[43m \u001b[49m\u001b[38;5;241;43m*\u001b[39;49m\u001b[43margs\u001b[49m\u001b[43m,\u001b[49m\u001b[43m \u001b[49m\u001b[38;5;241;43m*\u001b[39;49m\u001b[38;5;241;43m*\u001b[39;49m\u001b[43mkwargs\u001b[49m\u001b[43m)\u001b[49m\n\u001b[1;32m    561\u001b[0m datasets: List[\u001b[38;5;124m\"\u001b[39m\u001b[38;5;124mDataset\u001b[39m\u001b[38;5;124m\"\u001b[39m] \u001b[38;5;241m=\u001b[39m \u001b[38;5;28mlist\u001b[39m(out\u001b[38;5;241m.\u001b[39mvalues()) \u001b[38;5;28;01mif\u001b[39;00m \u001b[38;5;28misinstance\u001b[39m(out, \u001b[38;5;28mdict\u001b[39m) \u001b[38;5;28;01melse\u001b[39;00m [out]\n\u001b[1;32m    562\u001b[0m \u001b[38;5;66;03m# re-apply format to the output\u001b[39;00m\n",
      "File \u001b[0;32m/Library/Frameworks/Python.framework/Versions/3.12/lib/python3.12/site-packages/datasets/fingerprint.py:442\u001b[0m, in \u001b[0;36mfingerprint_transform.<locals>._fingerprint.<locals>.wrapper\u001b[0;34m(*args, **kwargs)\u001b[0m\n\u001b[1;32m    438\u001b[0m             validate_fingerprint(kwargs[fingerprint_name])\n\u001b[1;32m    440\u001b[0m \u001b[38;5;66;03m# Call actual function\u001b[39;00m\n\u001b[0;32m--> 442\u001b[0m out \u001b[38;5;241m=\u001b[39m \u001b[43mfunc\u001b[49m\u001b[43m(\u001b[49m\u001b[43mdataset\u001b[49m\u001b[43m,\u001b[49m\u001b[43m \u001b[49m\u001b[38;5;241;43m*\u001b[39;49m\u001b[43margs\u001b[49m\u001b[43m,\u001b[49m\u001b[43m \u001b[49m\u001b[38;5;241;43m*\u001b[39;49m\u001b[38;5;241;43m*\u001b[39;49m\u001b[43mkwargs\u001b[49m\u001b[43m)\u001b[49m\n\u001b[1;32m    444\u001b[0m \u001b[38;5;66;03m# Update fingerprint of in-place transforms + update in-place history of transforms\u001b[39;00m\n\u001b[1;32m    446\u001b[0m \u001b[38;5;28;01mif\u001b[39;00m inplace:  \u001b[38;5;66;03m# update after calling func so that the fingerprint doesn't change if the function fails\u001b[39;00m\n",
      "File \u001b[0;32m/Library/Frameworks/Python.framework/Versions/3.12/lib/python3.12/site-packages/datasets/arrow_dataset.py:5682\u001b[0m, in \u001b[0;36mDataset.add_column\u001b[0;34m(self, name, column, new_fingerprint, feature)\u001b[0m\n\u001b[1;32m   5679\u001b[0m     pyarrow_schema \u001b[38;5;241m=\u001b[39m \u001b[38;5;28;01mNone\u001b[39;00m\n\u001b[1;32m   5681\u001b[0m column_table \u001b[38;5;241m=\u001b[39m InMemoryTable\u001b[38;5;241m.\u001b[39mfrom_pydict({name: column}, schema\u001b[38;5;241m=\u001b[39mpyarrow_schema)\n\u001b[0;32m-> 5682\u001b[0m \u001b[43m_check_column_names\u001b[49m\u001b[43m(\u001b[49m\u001b[38;5;28;43mself\u001b[39;49m\u001b[38;5;241;43m.\u001b[39;49m\u001b[43m_data\u001b[49m\u001b[38;5;241;43m.\u001b[39;49m\u001b[43mcolumn_names\u001b[49m\u001b[43m \u001b[49m\u001b[38;5;241;43m+\u001b[39;49m\u001b[43m \u001b[49m\u001b[43mcolumn_table\u001b[49m\u001b[38;5;241;43m.\u001b[39;49m\u001b[43mcolumn_names\u001b[49m\u001b[43m)\u001b[49m\n\u001b[1;32m   5683\u001b[0m dataset \u001b[38;5;241m=\u001b[39m \u001b[38;5;28mself\u001b[39m\u001b[38;5;241m.\u001b[39mflatten_indices() \u001b[38;5;28;01mif\u001b[39;00m \u001b[38;5;28mself\u001b[39m\u001b[38;5;241m.\u001b[39m_indices \u001b[38;5;129;01mis\u001b[39;00m \u001b[38;5;129;01mnot\u001b[39;00m \u001b[38;5;28;01mNone\u001b[39;00m \u001b[38;5;28;01melse\u001b[39;00m \u001b[38;5;28mself\u001b[39m\n\u001b[1;32m   5684\u001b[0m \u001b[38;5;66;03m# Concatenate tables horizontally\u001b[39;00m\n",
      "File \u001b[0;32m/Library/Frameworks/Python.framework/Versions/3.12/lib/python3.12/site-packages/datasets/arrow_dataset.py:617\u001b[0m, in \u001b[0;36m_check_column_names\u001b[0;34m(column_names)\u001b[0m\n\u001b[1;32m    615\u001b[0m \u001b[38;5;28;01mif\u001b[39;00m \u001b[38;5;129;01mnot\u001b[39;00m \u001b[38;5;28mall\u001b[39m(count \u001b[38;5;241m==\u001b[39m \u001b[38;5;241m1\u001b[39m \u001b[38;5;28;01mfor\u001b[39;00m count \u001b[38;5;129;01min\u001b[39;00m counter\u001b[38;5;241m.\u001b[39mvalues()):\n\u001b[1;32m    616\u001b[0m     duplicated_columns \u001b[38;5;241m=\u001b[39m [col \u001b[38;5;28;01mfor\u001b[39;00m col \u001b[38;5;129;01min\u001b[39;00m counter \u001b[38;5;28;01mif\u001b[39;00m counter[col] \u001b[38;5;241m>\u001b[39m \u001b[38;5;241m1\u001b[39m]\n\u001b[0;32m--> 617\u001b[0m     \u001b[38;5;28;01mraise\u001b[39;00m \u001b[38;5;167;01mValueError\u001b[39;00m(\u001b[38;5;124mf\u001b[39m\u001b[38;5;124m\"\u001b[39m\u001b[38;5;124mThe table can\u001b[39m\u001b[38;5;124m'\u001b[39m\u001b[38;5;124mt have duplicated columns but columns \u001b[39m\u001b[38;5;132;01m{\u001b[39;00mduplicated_columns\u001b[38;5;132;01m}\u001b[39;00m\u001b[38;5;124m are duplicated.\u001b[39m\u001b[38;5;124m\"\u001b[39m)\n",
      "\u001b[0;31mValueError\u001b[0m: The table can't have duplicated columns but columns ['encoded_label'] are duplicated."
     ]
    }
   ],
   "source": [
    "\n",
    "\n"
   ]
  }
 ],
 "metadata": {
  "kernelspec": {
   "display_name": "Python 3",
   "language": "python",
   "name": "python3"
  },
  "language_info": {
   "codemirror_mode": {
    "name": "ipython",
    "version": 3
   },
   "file_extension": ".py",
   "mimetype": "text/x-python",
   "name": "python",
   "nbconvert_exporter": "python",
   "pygments_lexer": "ipython3",
   "version": "3.12.2"
  }
 },
 "nbformat": 4,
 "nbformat_minor": 2
}
